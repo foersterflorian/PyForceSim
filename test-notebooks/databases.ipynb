{
 "cells": [
  {
   "cell_type": "code",
   "execution_count": 16,
   "id": "c3d818f3-1ad9-4ca6-a76c-a80a4c5674b9",
   "metadata": {},
   "outputs": [],
   "source": [
    "import sqlite3\n",
    "from datetime import date, datetime, timezone, timedelta"
   ]
  },
  {
   "cell_type": "code",
   "execution_count": 2,
   "id": "3fe0ece2-4801-4756-887c-555d884da495",
   "metadata": {},
   "outputs": [],
   "source": [
    "def adapt_date_iso(val):\n",
    "    \"\"\"Adapt datetime.date to ISO 8601 date.\"\"\"\n",
    "    return val.isoformat()\n",
    "\n",
    "def adapt_datetime_iso(val):\n",
    "    \"\"\"Adapt datetime.datetime to timezone-naive ISO 8601 date.\"\"\"\n",
    "    return val.isoformat()\n",
    "\n",
    "def convert_date(val):\n",
    "    \"\"\"Convert ISO 8601 date to datetime.date object.\"\"\"\n",
    "    return date.fromisoformat(val.decode())\n",
    "\n",
    "def convert_datetime(val):\n",
    "    \"\"\"Convert ISO 8601 datetime to datetime.datetime object.\"\"\"\n",
    "    return datetime.fromisoformat(val.decode())"
   ]
  },
  {
   "cell_type": "code",
   "execution_count": null,
   "id": "e9d51977-d083-4d8c-91fc-0e078c8cfc0a",
   "metadata": {},
   "outputs": [],
   "source": []
  },
  {
   "cell_type": "code",
   "execution_count": 3,
   "id": "bc7e0a91-f15a-4160-92e9-e868c793b46d",
   "metadata": {},
   "outputs": [],
   "source": [
    "sqlite3.register_adapter(date, adapt_date_iso)\n",
    "sqlite3.register_adapter(datetime, adapt_datetime_iso)\n",
    "sqlite3.register_converter(\"date\", convert_date)\n",
    "sqlite3.register_converter(\"datetime\", convert_datetime)"
   ]
  },
  {
   "cell_type": "code",
   "execution_count": 4,
   "id": "c26c5024-af0e-4dd6-b81f-467bc46840c4",
   "metadata": {},
   "outputs": [],
   "source": [
    "statements = (\n",
    "    'PRAGMA writable_schema = 1',\n",
    "    'DELETE FROM sqlite_master',\n",
    "    'PRAGMA writable_schema = 0',\n",
    "    'VACUUM',\n",
    "    'PRAGMA integrity_check',\n",
    ")"
   ]
  },
  {
   "cell_type": "code",
   "execution_count": 5,
   "id": "8edbb7ec-4c04-486a-92f3-f0532233a65c",
   "metadata": {},
   "outputs": [],
   "source": [
    "conn = sqlite3.connect(\"geburtstage.db\")\n",
    "cur = conn.cursor()\n",
    "for exe in statements:\n",
    "    cur.execute(exe)\n",
    "    conn.commit()\n",
    "conn.close()"
   ]
  },
  {
   "cell_type": "code",
   "execution_count": 6,
   "id": "6a0c0298-5b1b-43d0-8f92-de2bff438f80",
   "metadata": {},
   "outputs": [
    {
     "name": "stdout",
     "output_type": "stream",
     "text": [
      "None\n"
     ]
    }
   ],
   "source": [
    "sql_anweisung = \"\"\"\n",
    "SELECT name FROM sqlite_master\n",
    "\"\"\"\n",
    "conn = sqlite3.connect(\"geburtstage.db\", detect_types=sqlite3.PARSE_DECLTYPES)\n",
    "cur = conn.cursor()\n",
    "res = cur.execute(sql_anweisung)\n",
    "print(res.fetchone())\n",
    "conn.close()"
   ]
  },
  {
   "cell_type": "code",
   "execution_count": 7,
   "id": "aa922c7d-55ca-4f1c-abba-ff6be30d5a0c",
   "metadata": {},
   "outputs": [],
   "source": [
    "verbindung = sqlite3.connect(\"geburtstage.db\", detect_types=sqlite3.PARSE_DECLTYPES)\n",
    "zeiger = verbindung.cursor()\n",
    "\n",
    "sql_anweisung = \"\"\"\n",
    "CREATE TABLE IF NOT EXISTS personen (\n",
    "vorname VARCHAR(20), \n",
    "nachname VARCHAR(30), \n",
    "geburtstag datetime\n",
    ");\"\"\"\n",
    "\n",
    "zeiger.execute(sql_anweisung)\n",
    "\n",
    "verbindung.commit()\n",
    "verbindung.close()"
   ]
  },
  {
   "cell_type": "code",
   "execution_count": 8,
   "id": "ed47275d-cf67-418a-8084-9762e1b97928",
   "metadata": {},
   "outputs": [
    {
     "name": "stdout",
     "output_type": "stream",
     "text": [
      "('personen',)\n"
     ]
    }
   ],
   "source": [
    "sql_anweisung = \"\"\"\n",
    "SELECT name FROM sqlite_master\n",
    "\"\"\"\n",
    "conn = sqlite3.connect(\"geburtstage.db\", detect_types=sqlite3.PARSE_DECLTYPES)\n",
    "cur = conn.cursor()\n",
    "res = cur.execute(sql_anweisung)\n",
    "print(res.fetchone())\n",
    "conn.close()"
   ]
  },
  {
   "cell_type": "code",
   "execution_count": 9,
   "id": "4ef9247d-26eb-4eb8-94c7-f1be0774a869",
   "metadata": {},
   "outputs": [
    {
     "data": {
      "text/plain": [
       "datetime.datetime(2024, 5, 23, 13, 31, 52, 434979, tzinfo=datetime.timezone.utc)"
      ]
     },
     "execution_count": 9,
     "metadata": {},
     "output_type": "execute_result"
    }
   ],
   "source": [
    "n = 'Test'\n",
    "sur = 'user'\n",
    "dt = datetime.now(tz=timezone.utc)\n",
    "d = date(1990, 1, 1)\n",
    "dt"
   ]
  },
  {
   "cell_type": "code",
   "execution_count": 10,
   "id": "b29c714e-0f42-4083-a5b2-8c67cfd5ff07",
   "metadata": {},
   "outputs": [],
   "source": [
    "sql_anweisung = \"\"\"\n",
    "INSERT INTO personen VALUES\n",
    "(?, ?, ?)\n",
    "\"\"\"\n",
    "conn = sqlite3.connect(\"geburtstage.db\", detect_types=sqlite3.PARSE_DECLTYPES | sqlite3.PARSE_COLNAMES)\n",
    "cur = conn.cursor()\n",
    "cur.execute(sql_anweisung, (n, sur, dt))\n",
    "conn.commit()\n",
    "conn.close()"
   ]
  },
  {
   "cell_type": "code",
   "execution_count": 11,
   "id": "cf78f936-8764-42e7-af85-f48df23ccbc9",
   "metadata": {},
   "outputs": [
    {
     "data": {
      "text/plain": [
       "[('Test',\n",
       "  'user',\n",
       "  datetime.datetime(2024, 5, 23, 13, 31, 52, 434979, tzinfo=datetime.timezone.utc))]"
      ]
     },
     "execution_count": 11,
     "metadata": {},
     "output_type": "execute_result"
    }
   ],
   "source": [
    "sql_statement = \"\"\"\n",
    "SELECT * FROM personen\n",
    "\"\"\"\n",
    "conn = sqlite3.connect(\"geburtstage.db\", detect_types=sqlite3.PARSE_DECLTYPES)\n",
    "cur = conn.cursor()\n",
    "res = cur.execute(sql_statement)\n",
    "res.fetchall()"
   ]
  },
  {
   "cell_type": "code",
   "execution_count": 12,
   "id": "0420457f-45c4-4120-8e8e-1a147e6f94ca",
   "metadata": {},
   "outputs": [],
   "source": [
    "conn.close()"
   ]
  },
  {
   "cell_type": "code",
   "execution_count": 13,
   "id": "7c2f75ea-7510-437b-a887-e8fe837106d8",
   "metadata": {},
   "outputs": [],
   "source": [
    "sql_statement = \"\"\"\n",
    "SELECT geburtstag FROM personen\n",
    "\"\"\"\n",
    "conn = sqlite3.connect(\"geburtstage.db\", detect_types=sqlite3.PARSE_DECLTYPES | sqlite3.PARSE_COLNAMES)\n",
    "cur = conn.cursor()\n",
    "res = cur.execute(sql_statement)\n",
    "ret = res.fetchall()"
   ]
  },
  {
   "cell_type": "code",
   "execution_count": 14,
   "id": "dac3c53a-6925-41b3-8514-1b0c1b031274",
   "metadata": {},
   "outputs": [],
   "source": [
    "conn.close()"
   ]
  },
  {
   "cell_type": "code",
   "execution_count": 15,
   "id": "697d2d26-07cb-40b8-900a-47183eb7f90f",
   "metadata": {},
   "outputs": [
    {
     "data": {
      "text/plain": [
       "datetime.datetime(2024, 5, 23, 13, 31, 52, 434979, tzinfo=datetime.timezone.utc)"
      ]
     },
     "execution_count": 15,
     "metadata": {},
     "output_type": "execute_result"
    }
   ],
   "source": [
    "ret[0][0]"
   ]
  },
  {
   "cell_type": "code",
   "execution_count": null,
   "id": "88486beb-f54f-4b4d-abfc-8a99bbd69850",
   "metadata": {},
   "outputs": [],
   "source": []
  }
 ],
 "metadata": {
  "kernelspec": {
   "display_name": "Python 3 (ipykernel)",
   "language": "python",
   "name": "python3"
  },
  "language_info": {
   "codemirror_mode": {
    "name": "ipython",
    "version": 3
   },
   "file_extension": ".py",
   "mimetype": "text/x-python",
   "name": "python",
   "nbconvert_exporter": "python",
   "pygments_lexer": "ipython3",
   "version": "3.11.8"
  }
 },
 "nbformat": 4,
 "nbformat_minor": 5
}
