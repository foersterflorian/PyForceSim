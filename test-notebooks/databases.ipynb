{
 "cells": [
  {
   "cell_type": "code",
   "execution_count": 66,
   "id": "21ccbbc4-5624-4331-947f-b2aba409f982",
   "metadata": {},
   "outputs": [
    {
     "name": "stdout",
     "output_type": "stream",
     "text": [
      "The autoreload extension is already loaded. To reload it, use:\n",
      "  %reload_ext autoreload\n"
     ]
    }
   ],
   "source": [
    "%load_ext autoreload\n",
    "%autoreload 2"
   ]
  },
  {
   "cell_type": "code",
   "execution_count": 15,
   "id": "7f6b3363-bffa-44bf-8bc3-b77f9f8beeb5",
   "metadata": {},
   "outputs": [],
   "source": [
    "import sqlite3\n",
    "con = sqlite3.connect(\"tutorial.db\")"
   ]
  },
  {
   "cell_type": "code",
   "execution_count": 16,
   "id": "cd9fcd3c-aa89-4fbb-914b-c8bcf4c91a28",
   "metadata": {},
   "outputs": [],
   "source": [
    "sql_q = \"\"\"\n",
    "DROP TABLE test\n",
    "\"\"\""
   ]
  },
  {
   "cell_type": "code",
   "execution_count": 17,
   "id": "6180e728-a9ef-4537-84e9-841288961741",
   "metadata": {},
   "outputs": [],
   "source": [
    "cur = con.cursor()\n",
    "cur.execute(sql_q)\n",
    "con.commit()"
   ]
  },
  {
   "cell_type": "code",
   "execution_count": 18,
   "id": "98132e9e-9086-4683-9b17-ce7d400eaf2b",
   "metadata": {},
   "outputs": [],
   "source": [
    "con.close()"
   ]
  },
  {
   "cell_type": "code",
   "execution_count": null,
   "id": "935262f3-5904-4231-a67c-43c54597cacb",
   "metadata": {},
   "outputs": [],
   "source": []
  },
  {
   "cell_type": "code",
   "execution_count": 12,
   "id": "eac9f00a-1807-4e89-a4c9-0d4cf8b64e06",
   "metadata": {},
   "outputs": [
    {
     "data": {
      "text/plain": [
       "(3, 7201, 0)"
      ]
     },
     "execution_count": 12,
     "metadata": {},
     "output_type": "execute_result"
    }
   ],
   "source": [
    "# days, seconds, microseconds\n",
    "(td.days, td.seconds, td.microseconds)"
   ]
  },
  {
   "cell_type": "code",
   "execution_count": 56,
   "id": "c1054bf5-e182-4336-a072-40cbaf053267",
   "metadata": {},
   "outputs": [],
   "source": [
    "def adapt_timedelta(td):\n",
    "    return f'{td.days},{td.seconds},{td.microseconds}'"
   ]
  },
  {
   "cell_type": "code",
   "execution_count": 57,
   "id": "9d50a8ae-b9a5-4144-83d7-078191b2d564",
   "metadata": {},
   "outputs": [
    {
     "data": {
      "text/plain": [
       "'2,7200,100000'"
      ]
     },
     "execution_count": 57,
     "metadata": {},
     "output_type": "execute_result"
    }
   ],
   "source": [
    "adapt_timedelta(td)"
   ]
  },
  {
   "cell_type": "code",
   "execution_count": 63,
   "id": "610214de-e879-42dc-9838-4d63e3e5960a",
   "metadata": {},
   "outputs": [],
   "source": [
    "def convert_timedelta(val):\n",
    "    days, secs, mic_secs = tuple(map(int, val.split(b\",\")))\n",
    "    return timedelta(days=days, seconds=secs, microseconds=mic_secs)"
   ]
  },
  {
   "cell_type": "code",
   "execution_count": 9,
   "id": "9286bc00-3424-4f31-a4c2-a8bd7bf2cc29",
   "metadata": {},
   "outputs": [
    {
     "ename": "NameError",
     "evalue": "name 'td' is not defined",
     "output_type": "error",
     "traceback": [
      "\u001b[1;31m---------------------------------------------------------------------------\u001b[0m",
      "\u001b[1;31mNameError\u001b[0m                                 Traceback (most recent call last)",
      "Cell \u001b[1;32mIn[9], line 1\u001b[0m\n\u001b[1;32m----> 1\u001b[0m \u001b[43mtd\u001b[49m\n",
      "\u001b[1;31mNameError\u001b[0m: name 'td' is not defined"
     ]
    }
   ],
   "source": [
    "td"
   ]
  },
  {
   "cell_type": "code",
   "execution_count": 64,
   "id": "9d397e06-8036-4557-af6a-1b65b9add492",
   "metadata": {},
   "outputs": [],
   "source": [
    "test = b'2,7200,100000'"
   ]
  },
  {
   "cell_type": "code",
   "execution_count": 65,
   "id": "1a25f23e-ea86-4ecd-aa56-e4da73715952",
   "metadata": {},
   "outputs": [
    {
     "data": {
      "text/plain": [
       "datetime.timedelta(days=2, seconds=7200, microseconds=100000)"
      ]
     },
     "execution_count": 65,
     "metadata": {},
     "output_type": "execute_result"
    }
   ],
   "source": [
    "convert_timedelta(test)"
   ]
  },
  {
   "cell_type": "code",
   "execution_count": null,
   "id": "b475afa9-87e8-4c6f-9e2e-880d363a3e56",
   "metadata": {},
   "outputs": [],
   "source": []
  },
  {
   "cell_type": "code",
   "execution_count": 62,
   "id": "0318e119-246e-40f4-9d42-93aaa1edb768",
   "metadata": {},
   "outputs": [
    {
     "data": {
      "text/plain": [
       "(2, 7200, 100000)"
      ]
     },
     "execution_count": 62,
     "metadata": {},
     "output_type": "execute_result"
    }
   ],
   "source": [
    "tuple(map(int, test.split(b\",\")))"
   ]
  },
  {
   "cell_type": "code",
   "execution_count": null,
   "id": "095a1e17-fe61-4909-b0ec-273f5cd369a6",
   "metadata": {},
   "outputs": [],
   "source": []
  },
  {
   "cell_type": "code",
   "execution_count": 7,
   "id": "7cc2125e-4d26-4d12-b732-807a5f12482f",
   "metadata": {},
   "outputs": [],
   "source": [
    "from pyforcesim.simulation.databases import Database\n",
    "import datetime"
   ]
  },
  {
   "cell_type": "code",
   "execution_count": 13,
   "id": "c6a85f92-15c9-4a93-9b49-5e959bff61fc",
   "metadata": {},
   "outputs": [],
   "source": [
    "td = datetime.timedelta(days=3, hours=2, milliseconds=100)"
   ]
  },
  {
   "cell_type": "code",
   "execution_count": 14,
   "id": "36f7ae36-2007-48e7-9c4c-080c66abdec8",
   "metadata": {},
   "outputs": [
    {
     "data": {
      "text/plain": [
       "datetime.timedelta(days=3, seconds=7200, microseconds=100000)"
      ]
     },
     "execution_count": 14,
     "metadata": {},
     "output_type": "execute_result"
    }
   ],
   "source": [
    "td"
   ]
  },
  {
   "cell_type": "code",
   "execution_count": 21,
   "id": "0fb6267d-2e11-4479-a9e0-8a6f4d13506e",
   "metadata": {},
   "outputs": [],
   "source": [
    "db = Database(name='test', delete_existing=True)"
   ]
  },
  {
   "cell_type": "code",
   "execution_count": 22,
   "id": "973e2058-c3f6-46b3-93d4-4f0a2106cb32",
   "metadata": {},
   "outputs": [],
   "source": [
    "name = 'test'\n",
    "cols_props = {\n",
    "    'id': 'INTEGER PRIMARY KEY',\n",
    "    'custom_id': 'TEXT',\n",
    "    'datetime': 'DATETIME',\n",
    "    'date': 'DATE',\n",
    "    'td': 'TIMEDELTA',\n",
    "}"
   ]
  },
  {
   "cell_type": "code",
   "execution_count": 23,
   "id": "1d19830b-0968-4686-bc86-dcf700f9d9b5",
   "metadata": {},
   "outputs": [
    {
     "name": "stdout",
     "output_type": "stream",
     "text": [
      "INFO:pyforcesim.databases:Creating table test...\n",
      "INFO:pyforcesim.databases:Table test created successfully.\n"
     ]
    }
   ],
   "source": [
    "db.create_table(table_name=name, columns=cols_props)"
   ]
  },
  {
   "cell_type": "code",
   "execution_count": 24,
   "id": "e3b979b1-baf8-4887-abb1-8fe7d367e991",
   "metadata": {},
   "outputs": [],
   "source": [
    "cols = db.get_columns(table_name=name)"
   ]
  },
  {
   "cell_type": "code",
   "execution_count": 25,
   "id": "c6bdef53-868c-476a-9f84-e870e127b83c",
   "metadata": {},
   "outputs": [
    {
     "data": {
      "text/plain": [
       "[(0, 'id', 'INTEGER', 0, None, 1),\n",
       " (1, 'custom_id', 'TEXT', 0, None, 0),\n",
       " (2, 'datetime', 'DATETIME', 0, None, 0),\n",
       " (3, 'date', 'DATE', 0, None, 0),\n",
       " (4, 'td', 'TIMEDELTA', 0, None, 0)]"
      ]
     },
     "execution_count": 25,
     "metadata": {},
     "output_type": "execute_result"
    }
   ],
   "source": [
    "cols"
   ]
  },
  {
   "cell_type": "code",
   "execution_count": 26,
   "id": "c8b65577-5720-441e-9e79-ffb8841b8bca",
   "metadata": {},
   "outputs": [],
   "source": [
    "entry = (\n",
    "    12,\n",
    "    'test',\n",
    "    datetime.datetime.now(tz=datetime.UTC),\n",
    "    datetime.date(2023, 12, 3),\n",
    "    datetime.timedelta(days=3, hours=2, milliseconds=100)\n",
    ")"
   ]
  },
  {
   "cell_type": "code",
   "execution_count": 27,
   "id": "7b506653-f755-4d73-be4f-995a1cfdb39c",
   "metadata": {},
   "outputs": [
    {
     "name": "stdout",
     "output_type": "stream",
     "text": [
      "DEBUG:pyforcesim.databases:Prepared insertion query: INSERT INTO test VALUES (?, ?, ?, ?, ?).\n",
      "DEBUG:pyforcesim.databases:Inserting data into table test with query='INSERT INTO test VALUES (?, ?, ?, ?, ?)'.\n",
      "DEBUG:pyforcesim.databases:Data inserted successfully.\n"
     ]
    }
   ],
   "source": [
    "db.insert(table_name=name, data=entry)"
   ]
  },
  {
   "cell_type": "code",
   "execution_count": 33,
   "id": "34529561-d689-4020-9c4b-4d457b94e224",
   "metadata": {},
   "outputs": [],
   "source": [
    "entry1 = (\n",
    "    14,\n",
    "    'test',\n",
    "    datetime.datetime.now(tz=datetime.UTC),\n",
    "    datetime.date(2023, 12, 3),\n",
    "    datetime.timedelta(days=3, hours=2, milliseconds=100)\n",
    ")\n",
    "entry2 = (\n",
    "    15,\n",
    "    'test2',\n",
    "    datetime.datetime.now(tz=datetime.UTC),\n",
    "    datetime.date(2020, 12, 3),\n",
    "    datetime.timedelta(days=30, hours=2, milliseconds=100)\n",
    ")\n",
    "entry3 = (\n",
    "    18,\n",
    "    'test3',\n",
    "    datetime.datetime.now(tz=datetime.UTC),\n",
    "    datetime.date(2024, 12, 3),\n",
    "    datetime.timedelta(days=1, hours=2, milliseconds=100)\n",
    ")"
   ]
  },
  {
   "cell_type": "code",
   "execution_count": 34,
   "id": "1531db5f-ca2d-488a-a8b2-0aacbb8c2f89",
   "metadata": {},
   "outputs": [],
   "source": [
    "entries = (entry1, entry2, entry3)"
   ]
  },
  {
   "cell_type": "code",
   "execution_count": 35,
   "id": "4a9a2006-34ce-4747-b349-90bf8fee6188",
   "metadata": {},
   "outputs": [
    {
     "name": "stdout",
     "output_type": "stream",
     "text": [
      "DEBUG:pyforcesim.databases:Prepared insertion query: INSERT INTO test VALUES (?, ?, ?, ?, ?).\n",
      "DEBUG:pyforcesim.databases:Inserting data into table test with query='INSERT INTO test VALUES (?, ?, ?, ?, ?)'.\n",
      "DEBUG:pyforcesim.databases:Data inserted successfully.\n"
     ]
    }
   ],
   "source": [
    "db.insert_many(table_name=name, data=entries)"
   ]
  },
  {
   "cell_type": "code",
   "execution_count": 36,
   "id": "ef2c5cf5-1e4f-4520-bdc1-839735247ff8",
   "metadata": {},
   "outputs": [
    {
     "data": {
      "text/plain": [
       "[(12,\n",
       "  'test',\n",
       "  datetime.datetime(2024, 5, 24, 16, 14, 0, 342730, tzinfo=datetime.timezone.utc),\n",
       "  datetime.date(2023, 12, 3),\n",
       "  datetime.timedelta(days=3, seconds=7200, microseconds=100000)),\n",
       " (14,\n",
       "  'test',\n",
       "  datetime.datetime(2024, 5, 24, 16, 21, 22, 499200, tzinfo=datetime.timezone.utc),\n",
       "  datetime.date(2023, 12, 3),\n",
       "  datetime.timedelta(days=3, seconds=7200, microseconds=100000)),\n",
       " (15,\n",
       "  'test2',\n",
       "  datetime.datetime(2024, 5, 24, 16, 21, 22, 499200, tzinfo=datetime.timezone.utc),\n",
       "  datetime.date(2020, 12, 3),\n",
       "  datetime.timedelta(days=30, seconds=7200, microseconds=100000)),\n",
       " (18,\n",
       "  'test3',\n",
       "  datetime.datetime(2024, 5, 24, 16, 21, 22, 499200, tzinfo=datetime.timezone.utc),\n",
       "  datetime.date(2024, 12, 3),\n",
       "  datetime.timedelta(days=1, seconds=7200, microseconds=100000))]"
      ]
     },
     "execution_count": 36,
     "metadata": {},
     "output_type": "execute_result"
    }
   ],
   "source": [
    "q = 'SELECT * from test'\n",
    "resp = db.execute_query(q)\n",
    "resp"
   ]
  },
  {
   "cell_type": "code",
   "execution_count": null,
   "id": "1c9eaa43-1df6-487a-bd50-6a23915832d9",
   "metadata": {},
   "outputs": [],
   "source": []
  },
  {
   "cell_type": "code",
   "execution_count": null,
   "id": "67fbd952-1b8f-4065-899e-1b0b1a206412",
   "metadata": {},
   "outputs": [],
   "source": []
  },
  {
   "cell_type": "code",
   "execution_count": null,
   "id": "b0629d3e-ceeb-4019-9c28-7bc6f45a85bb",
   "metadata": {},
   "outputs": [],
   "source": []
  },
  {
   "cell_type": "code",
   "execution_count": 22,
   "id": "390acf7c-0573-4220-ac96-ba80bd0b2bd1",
   "metadata": {},
   "outputs": [],
   "source": [
    "con = db.get_connection()\n",
    "cur = con.cursor()\n",
    "q = 'PRAGMA table_info(table_name)'\n",
    "res = cur.execute()\n",
    "res.fetchone()"
   ]
  },
  {
   "cell_type": "code",
   "execution_count": 23,
   "id": "680c08bc-ba48-45e8-96b5-ed29c5df84a4",
   "metadata": {},
   "outputs": [],
   "source": [
    "cur = con.cursor()"
   ]
  },
  {
   "cell_type": "code",
   "execution_count": null,
   "id": "309820db-9cd7-4394-91f9-c7f60a527b9b",
   "metadata": {},
   "outputs": [],
   "source": []
  },
  {
   "cell_type": "code",
   "execution_count": 15,
   "id": "7cba2052-77b6-4eba-a470-259dd2da9cfb",
   "metadata": {},
   "outputs": [
    {
     "data": {
      "text/plain": [
       "('test',)"
      ]
     },
     "execution_count": 15,
     "metadata": {},
     "output_type": "execute_result"
    }
   ],
   "source": [
    "con = db.get_connection()\n",
    "cur = con.cursor()\n",
    "res = cur.execute('SELECT name FROM sqlite_master')\n",
    "res.fetchone()"
   ]
  },
  {
   "cell_type": "code",
   "execution_count": 16,
   "id": "1fba0ef5-8144-4a0b-9110-bfc33e29cc67",
   "metadata": {},
   "outputs": [],
   "source": [
    "db.close_connection()"
   ]
  },
  {
   "cell_type": "code",
   "execution_count": 20,
   "id": "c7b1c365-c015-4eba-adbb-abba914bc121",
   "metadata": {},
   "outputs": [],
   "source": [
    "con.close()"
   ]
  },
  {
   "cell_type": "code",
   "execution_count": 118,
   "id": "3dfd7fd0-9917-4212-89ec-b0940101c720",
   "metadata": {},
   "outputs": [
    {
     "data": {
      "text/plain": [
       "'col1 INTEGER, col2 TEXT'"
      ]
     },
     "execution_count": 118,
     "metadata": {},
     "output_type": "execute_result"
    }
   ],
   "source": [
    "cols = ['col1 INTEGER', 'col2 TEXT']\n",
    "', '.join(cols)"
   ]
  },
  {
   "cell_type": "code",
   "execution_count": 4,
   "id": "1fa1e2e2-0206-44d4-b58f-a8c3921084c3",
   "metadata": {},
   "outputs": [],
   "source": [
    "name = 'test'\n",
    "cols_props = {\n",
    "    'col1': 'INTEGER PRIMARY KEY',\n",
    "    'col2': 'TEXT'\n",
    "}"
   ]
  },
  {
   "cell_type": "code",
   "execution_count": null,
   "id": "6bd2a9db-1f1b-426a-928e-1af903e99748",
   "metadata": {},
   "outputs": [],
   "source": []
  },
  {
   "cell_type": "code",
   "execution_count": null,
   "id": "bf553eca-754e-4fe1-9fa3-0bae9d4d3f34",
   "metadata": {},
   "outputs": [],
   "source": []
  },
  {
   "cell_type": "code",
   "execution_count": 142,
   "id": "5051ffd6-7c05-4eb3-829d-007cb009627c",
   "metadata": {},
   "outputs": [],
   "source": [
    "query_cols = tuple(' '.join([key, value]) for key, value in cols_props.items())\n",
    "query_cols = ', '.join(query_cols)"
   ]
  },
  {
   "cell_type": "code",
   "execution_count": 143,
   "id": "89fd5bd2-b00a-4a43-b78d-92a9c117559a",
   "metadata": {},
   "outputs": [
    {
     "data": {
      "text/plain": [
       "'col1 INTEGER PRIMARY KEY, col2 TEXT'"
      ]
     },
     "execution_count": 143,
     "metadata": {},
     "output_type": "execute_result"
    }
   ],
   "source": [
    "query_cols"
   ]
  },
  {
   "cell_type": "code",
   "execution_count": 146,
   "id": "933aa5e5-56fa-4a17-a3d9-dd272b14af99",
   "metadata": {},
   "outputs": [
    {
     "data": {
      "text/plain": [
       "'\\nCREATE TABLE test (col1 INTEGER PRIMARY KEY, col2 TEXT)\\n'"
      ]
     },
     "execution_count": 146,
     "metadata": {},
     "output_type": "execute_result"
    }
   ],
   "source": [
    "sql_query = f\"\"\"\n",
    "CREATE TABLE {name} ({query_cols})\n",
    "\"\"\"\n",
    "sql_query"
   ]
  },
  {
   "cell_type": "code",
   "execution_count": 147,
   "id": "29c1fff7-8fb3-426c-9965-7249f4f3f766",
   "metadata": {},
   "outputs": [],
   "source": [
    "cur.execute(sql_query)\n",
    "con.commit()"
   ]
  },
  {
   "cell_type": "code",
   "execution_count": 148,
   "id": "ab2612a6-20bc-442f-a4ef-50a13c480a40",
   "metadata": {},
   "outputs": [
    {
     "data": {
      "text/plain": [
       "('test',)"
      ]
     },
     "execution_count": 148,
     "metadata": {},
     "output_type": "execute_result"
    }
   ],
   "source": [
    "res = cur.execute('SELECT name FROM sqlite_master')\n",
    "res.fetchone()"
   ]
  },
  {
   "cell_type": "code",
   "execution_count": null,
   "id": "319c9245-f177-4ac9-a9e5-f6054ce63226",
   "metadata": {},
   "outputs": [],
   "source": []
  },
  {
   "cell_type": "code",
   "execution_count": 155,
   "id": "5fd8da5d-d221-4405-90f7-374bed1bc770",
   "metadata": {},
   "outputs": [],
   "source": [
    "from enum import Enum, auto"
   ]
  },
  {
   "cell_type": "code",
   "execution_count": 158,
   "id": "35c59cfe-2da2-4d6b-a056-c1beba655caf",
   "metadata": {},
   "outputs": [],
   "source": [
    "class ColType(Enum):\n",
    "    INTEGER = auto()\n",
    "    REAL = auto()"
   ]
  },
  {
   "cell_type": "code",
   "execution_count": 160,
   "id": "cc6b10a3-f3bf-4337-83f6-7ea36b7ea420",
   "metadata": {},
   "outputs": [
    {
     "name": "stdout",
     "output_type": "stream",
     "text": [
      "INTEGER\n",
      "REAL\n"
     ]
    }
   ],
   "source": [
    "for i in ColType:\n",
    "    print(i.name)"
   ]
  },
  {
   "cell_type": "code",
   "execution_count": 164,
   "id": "e3664e04-ac1f-405b-886a-4fa0544722a4",
   "metadata": {},
   "outputs": [
    {
     "data": {
      "text/plain": [
       "<enum 'ColType'>"
      ]
     },
     "execution_count": 164,
     "metadata": {},
     "output_type": "execute_result"
    }
   ],
   "source": [
    "ColType"
   ]
  },
  {
   "cell_type": "code",
   "execution_count": null,
   "id": "8c0eaeb8-b42d-4e12-a87d-59f883473e80",
   "metadata": {},
   "outputs": [],
   "source": []
  },
  {
   "cell_type": "code",
   "execution_count": 180,
   "id": "f6794a3f-0ac7-4a72-bc2d-8b83d2666bb4",
   "metadata": {},
   "outputs": [],
   "source": [
    "from typing import Final\n",
    "DB_COL_TYPES: Final[frozenset[str]] = frozenset([\n",
    "    'INTEGER',\n",
    "    'REAL',\n",
    "    'TEXT',\n",
    "    'BLOB',\n",
    "    'DATE',\n",
    "    'DATETIME',\n",
    "    'TIMEDELTA',\n",
    "])\n",
    "DB_SUPPORTED_COL_CONSTRAINTS: Final[frozenset[str]] = frozenset([\n",
    "    'NOT NULL',\n",
    "    'UNIQUE',\n",
    "    'PRIMARY KEY',\n",
    "])"
   ]
  },
  {
   "cell_type": "code",
   "execution_count": 181,
   "id": "ab183328-b45f-4c38-bad3-169768973a48",
   "metadata": {},
   "outputs": [],
   "source": [
    "from itertools import product"
   ]
  },
  {
   "cell_type": "code",
   "execution_count": 185,
   "id": "140d7011-d421-4867-b2a2-8145cc3d0733",
   "metadata": {},
   "outputs": [],
   "source": [
    "prod = product(DB_COL_TYPES, DB_SUPPORTED_COL_CONSTRAINTS)"
   ]
  },
  {
   "cell_type": "code",
   "execution_count": 186,
   "id": "6a7caa52-1e4b-45aa-a0a1-c8991762fdba",
   "metadata": {},
   "outputs": [
    {
     "data": {
      "text/plain": [
       "{'BLOB NOT NULL',\n",
       " 'BLOB PRIMARY KEY',\n",
       " 'BLOB UNIQUE',\n",
       " 'DATE NOT NULL',\n",
       " 'DATE PRIMARY KEY',\n",
       " 'DATE UNIQUE',\n",
       " 'DATETIME NOT NULL',\n",
       " 'DATETIME PRIMARY KEY',\n",
       " 'DATETIME UNIQUE',\n",
       " 'INTEGER NOT NULL',\n",
       " 'INTEGER PRIMARY KEY',\n",
       " 'INTEGER UNIQUE',\n",
       " 'REAL NOT NULL',\n",
       " 'REAL PRIMARY KEY',\n",
       " 'REAL UNIQUE',\n",
       " 'TEXT NOT NULL',\n",
       " 'TEXT PRIMARY KEY',\n",
       " 'TEXT UNIQUE',\n",
       " 'TIMEDELTA NOT NULL',\n",
       " 'TIMEDELTA PRIMARY KEY',\n",
       " 'TIMEDELTA UNIQUE'}"
      ]
     },
     "execution_count": 186,
     "metadata": {},
     "output_type": "execute_result"
    }
   ],
   "source": [
    "{' '.join(entry) for entry in prod}"
   ]
  },
  {
   "cell_type": "code",
   "execution_count": 187,
   "id": "1779a78f-61c3-4a37-83e6-ce1dd90d071e",
   "metadata": {},
   "outputs": [
    {
     "data": {
      "text/plain": [
       "{'rant', 'test'}"
      ]
     },
     "execution_count": 187,
     "metadata": {},
     "output_type": "execute_result"
    }
   ],
   "source": [
    "{'test', 'rant'}"
   ]
  },
  {
   "cell_type": "code",
   "execution_count": null,
   "id": "0486f6fb-328e-468c-81a4-e45e42c1a97a",
   "metadata": {},
   "outputs": [],
   "source": []
  },
  {
   "cell_type": "code",
   "execution_count": 1,
   "id": "a3ddef0b-20e8-4754-9598-cbf39e37ba0f",
   "metadata": {},
   "outputs": [],
   "source": [
    "from pyforcesim.simulation import databases"
   ]
  },
  {
   "cell_type": "code",
   "execution_count": 2,
   "id": "d1af17c3-4ce0-44f6-ba49-b19c58046078",
   "metadata": {},
   "outputs": [
    {
     "data": {
      "text/plain": [
       "frozenset({'BLOB',\n",
       "           'BLOB NOT NULL',\n",
       "           'BLOB PRIMARY KEY',\n",
       "           'BLOB UNIQUE',\n",
       "           'DATE',\n",
       "           'DATE NOT NULL',\n",
       "           'DATE PRIMARY KEY',\n",
       "           'DATE UNIQUE',\n",
       "           'DATETIME',\n",
       "           'DATETIME NOT NULL',\n",
       "           'DATETIME PRIMARY KEY',\n",
       "           'DATETIME UNIQUE',\n",
       "           'INTEGER',\n",
       "           'INTEGER NOT NULL',\n",
       "           'INTEGER PRIMARY KEY',\n",
       "           'INTEGER UNIQUE',\n",
       "           'REAL',\n",
       "           'REAL NOT NULL',\n",
       "           'REAL PRIMARY KEY',\n",
       "           'REAL UNIQUE',\n",
       "           'TEXT',\n",
       "           'TEXT NOT NULL',\n",
       "           'TEXT PRIMARY KEY',\n",
       "           'TEXT UNIQUE',\n",
       "           'TIMEDELTA',\n",
       "           'TIMEDELTA NOT NULL',\n",
       "           'TIMEDELTA PRIMARY KEY',\n",
       "           'TIMEDELTA UNIQUE'})"
      ]
     },
     "execution_count": 2,
     "metadata": {},
     "output_type": "execute_result"
    }
   ],
   "source": [
    "databases.DB_DATA_TYPES_ALLOWED"
   ]
  },
  {
   "cell_type": "code",
   "execution_count": null,
   "id": "228f972c-2ac5-4063-b755-d9dca20e0fea",
   "metadata": {},
   "outputs": [],
   "source": []
  },
  {
   "cell_type": "code",
   "execution_count": null,
   "id": "a09b904f-afda-417a-8943-61be0021c812",
   "metadata": {},
   "outputs": [],
   "source": []
  },
  {
   "cell_type": "code",
   "execution_count": 29,
   "id": "c24182fb-7013-4761-aacc-744f3cc92555",
   "metadata": {},
   "outputs": [],
   "source": [
    "import re"
   ]
  },
  {
   "cell_type": "code",
   "execution_count": 105,
   "id": "fbf94790-5372-4a50-9137-a27308084fba",
   "metadata": {},
   "outputs": [],
   "source": [
    "regex = r'(^[_0-9]+)|[\\W]|(true|false|select|where|drop|delete|create)'"
   ]
  },
  {
   "cell_type": "code",
   "execution_count": 114,
   "id": "98c04d62-a9a7-47a4-9c67-1bb4c8f19533",
   "metadata": {},
   "outputs": [],
   "source": [
    "test = '8889___I%&nject0ion_--AttackDelete'"
   ]
  },
  {
   "cell_type": "code",
   "execution_count": 115,
   "id": "7c0db024-132e-4333-8b30-6a14f2bf6605",
   "metadata": {},
   "outputs": [],
   "source": [
    "pattern = re.compile(regex, flags=re.IGNORECASE)"
   ]
  },
  {
   "cell_type": "code",
   "execution_count": 116,
   "id": "15b27ce2-22d1-4b7d-873d-c3d24e99b83b",
   "metadata": {},
   "outputs": [
    {
     "data": {
      "text/plain": [
       "<re.Match object; span=(0, 7), match='8889___'>"
      ]
     },
     "execution_count": 116,
     "metadata": {},
     "output_type": "execute_result"
    }
   ],
   "source": [
    "pattern.search(test)"
   ]
  },
  {
   "cell_type": "code",
   "execution_count": 117,
   "id": "56e5fe00-9052-4e3a-b8b6-66cb5967c060",
   "metadata": {},
   "outputs": [
    {
     "data": {
      "text/plain": [
       "'Inject0ion_Attack'"
      ]
     },
     "execution_count": 117,
     "metadata": {},
     "output_type": "execute_result"
    }
   ],
   "source": [
    "pattern.sub('', test)"
   ]
  },
  {
   "cell_type": "code",
   "execution_count": null,
   "id": "d979f564-049a-4f5e-bd41-2be0f7bbefac",
   "metadata": {},
   "outputs": [],
   "source": []
  },
  {
   "cell_type": "code",
   "execution_count": 1,
   "id": "c3d818f3-1ad9-4ca6-a76c-a80a4c5674b9",
   "metadata": {},
   "outputs": [],
   "source": [
    "import sqlite3\n",
    "from datetime import date, datetime, timezone, timedelta"
   ]
  },
  {
   "cell_type": "code",
   "execution_count": 2,
   "id": "3fe0ece2-4801-4756-887c-555d884da495",
   "metadata": {},
   "outputs": [],
   "source": [
    "def adapt_date_iso(val):\n",
    "    \"\"\"Adapt datetime.date to ISO 8601 date.\"\"\"\n",
    "    return val.isoformat()\n",
    "\n",
    "def adapt_datetime_iso(val):\n",
    "    \"\"\"Adapt datetime.datetime to timezone-naive ISO 8601 date.\"\"\"\n",
    "    return val.isoformat()\n",
    "\n",
    "def convert_date(val):\n",
    "    \"\"\"Convert ISO 8601 date to datetime.date object.\"\"\"\n",
    "    return date.fromisoformat(val.decode())\n",
    "\n",
    "def convert_datetime(val):\n",
    "    \"\"\"Convert ISO 8601 datetime to datetime.datetime object.\"\"\"\n",
    "    return datetime.fromisoformat(val.decode())"
   ]
  },
  {
   "cell_type": "code",
   "execution_count": null,
   "id": "e9d51977-d083-4d8c-91fc-0e078c8cfc0a",
   "metadata": {},
   "outputs": [],
   "source": []
  },
  {
   "cell_type": "code",
   "execution_count": 3,
   "id": "bc7e0a91-f15a-4160-92e9-e868c793b46d",
   "metadata": {},
   "outputs": [],
   "source": [
    "sqlite3.register_adapter(date, adapt_date_iso)\n",
    "sqlite3.register_adapter(datetime, adapt_datetime_iso)\n",
    "sqlite3.register_converter(\"date\", convert_date)\n",
    "sqlite3.register_converter(\"datetime\", convert_datetime)"
   ]
  },
  {
   "cell_type": "code",
   "execution_count": 4,
   "id": "c26c5024-af0e-4dd6-b81f-467bc46840c4",
   "metadata": {},
   "outputs": [],
   "source": [
    "statements = (\n",
    "    'PRAGMA writable_schema = 1',\n",
    "    'DELETE FROM sqlite_master',\n",
    "    'PRAGMA writable_schema = 0',\n",
    "    'VACUUM',\n",
    "    'PRAGMA integrity_check',\n",
    ")"
   ]
  },
  {
   "cell_type": "code",
   "execution_count": 5,
   "id": "8edbb7ec-4c04-486a-92f3-f0532233a65c",
   "metadata": {},
   "outputs": [],
   "source": [
    "conn = sqlite3.connect(\"geburtstage.db\")\n",
    "cur = conn.cursor()\n",
    "for exe in statements:\n",
    "    cur.execute(exe)\n",
    "    conn.commit()\n",
    "conn.close()"
   ]
  },
  {
   "cell_type": "code",
   "execution_count": 6,
   "id": "d072ddf9-c0c3-4d22-9c25-206cd82534a6",
   "metadata": {},
   "outputs": [],
   "source": [
    "conn = sqlite3.connect(\"geburtstage.db\")\n",
    "conn.close()"
   ]
  },
  {
   "cell_type": "code",
   "execution_count": 6,
   "id": "6a0c0298-5b1b-43d0-8f92-de2bff438f80",
   "metadata": {},
   "outputs": [
    {
     "name": "stdout",
     "output_type": "stream",
     "text": [
      "None\n"
     ]
    }
   ],
   "source": [
    "sql_anweisung = \"\"\"\n",
    "SELECT name FROM sqlite_master\n",
    "\"\"\"\n",
    "conn = sqlite3.connect(\"geburtstage.db\", detect_types=sqlite3.PARSE_DECLTYPES)\n",
    "cur = conn.cursor()\n",
    "res = cur.execute(sql_anweisung)\n",
    "print(res.fetchone())\n",
    "conn.close()"
   ]
  },
  {
   "cell_type": "code",
   "execution_count": 8,
   "id": "aa922c7d-55ca-4f1c-abba-ff6be30d5a0c",
   "metadata": {},
   "outputs": [
    {
     "ename": "OperationalError",
     "evalue": "database is locked",
     "output_type": "error",
     "traceback": [
      "\u001b[1;31m---------------------------------------------------------------------------\u001b[0m",
      "\u001b[1;31mOperationalError\u001b[0m                          Traceback (most recent call last)",
      "Cell \u001b[1;32mIn[8], line 11\u001b[0m\n\u001b[0;32m      2\u001b[0m zeiger \u001b[38;5;241m=\u001b[39m verbindung\u001b[38;5;241m.\u001b[39mcursor()\n\u001b[0;32m      4\u001b[0m sql_anweisung \u001b[38;5;241m=\u001b[39m \u001b[38;5;124m\"\"\"\u001b[39m\n\u001b[0;32m      5\u001b[0m \u001b[38;5;124mCREATE TABLE IF NOT EXISTS personen (\u001b[39m\n\u001b[0;32m      6\u001b[0m \u001b[38;5;124mvorname VARCHAR(20), \u001b[39m\n\u001b[0;32m      7\u001b[0m \u001b[38;5;124mnachname VARCHAR(30), \u001b[39m\n\u001b[0;32m      8\u001b[0m \u001b[38;5;124mgeburtstag datetime\u001b[39m\n\u001b[0;32m      9\u001b[0m \u001b[38;5;124m);\u001b[39m\u001b[38;5;124m\"\"\"\u001b[39m\n\u001b[1;32m---> 11\u001b[0m \u001b[43mzeiger\u001b[49m\u001b[38;5;241;43m.\u001b[39;49m\u001b[43mexecute\u001b[49m\u001b[43m(\u001b[49m\u001b[43msql_anweisung\u001b[49m\u001b[43m)\u001b[49m\n\u001b[0;32m     13\u001b[0m verbindung\u001b[38;5;241m.\u001b[39mcommit()\n\u001b[0;32m     14\u001b[0m verbindung\u001b[38;5;241m.\u001b[39mclose()\n",
      "\u001b[1;31mOperationalError\u001b[0m: database is locked"
     ]
    }
   ],
   "source": [
    "verbindung = sqlite3.connect(\"geburtstage.db\", detect_types=sqlite3.PARSE_DECLTYPES)\n",
    "zeiger = verbindung.cursor()\n",
    "\n",
    "sql_anweisung = \"\"\"\n",
    "CREATE TABLE IF NOT EXISTS personen (\n",
    "vorname VARCHAR(20), \n",
    "nachname VARCHAR(30), \n",
    "geburtstag datetime\n",
    ");\"\"\"\n",
    "\n",
    "zeiger.execute(sql_anweisung)\n",
    "\n",
    "verbindung.commit()\n",
    "verbindung.close()"
   ]
  },
  {
   "cell_type": "code",
   "execution_count": 8,
   "id": "ed47275d-cf67-418a-8084-9762e1b97928",
   "metadata": {},
   "outputs": [
    {
     "name": "stdout",
     "output_type": "stream",
     "text": [
      "('personen',)\n"
     ]
    }
   ],
   "source": [
    "sql_anweisung = \"\"\"\n",
    "SELECT name FROM sqlite_master\n",
    "\"\"\"\n",
    "conn = sqlite3.connect(\"geburtstage.db\", detect_types=sqlite3.PARSE_DECLTYPES)\n",
    "cur = conn.cursor()\n",
    "res = cur.execute(sql_anweisung)\n",
    "print(res.fetchone())\n",
    "conn.close()"
   ]
  },
  {
   "cell_type": "code",
   "execution_count": 9,
   "id": "4ef9247d-26eb-4eb8-94c7-f1be0774a869",
   "metadata": {},
   "outputs": [
    {
     "data": {
      "text/plain": [
       "datetime.datetime(2024, 5, 23, 13, 31, 52, 434979, tzinfo=datetime.timezone.utc)"
      ]
     },
     "execution_count": 9,
     "metadata": {},
     "output_type": "execute_result"
    }
   ],
   "source": [
    "n = 'Test'\n",
    "sur = 'user'\n",
    "dt = datetime.now(tz=timezone.utc)\n",
    "d = date(1990, 1, 1)\n",
    "dt"
   ]
  },
  {
   "cell_type": "code",
   "execution_count": 10,
   "id": "b29c714e-0f42-4083-a5b2-8c67cfd5ff07",
   "metadata": {},
   "outputs": [],
   "source": [
    "sql_anweisung = \"\"\"\n",
    "INSERT INTO personen VALUES\n",
    "(?, ?, ?)\n",
    "\"\"\"\n",
    "conn = sqlite3.connect(\"geburtstage.db\", detect_types=sqlite3.PARSE_DECLTYPES | sqlite3.PARSE_COLNAMES)\n",
    "cur = conn.cursor()\n",
    "cur.execute(sql_anweisung, (n, sur, dt))\n",
    "conn.commit()\n",
    "conn.close()"
   ]
  },
  {
   "cell_type": "code",
   "execution_count": 11,
   "id": "cf78f936-8764-42e7-af85-f48df23ccbc9",
   "metadata": {},
   "outputs": [
    {
     "data": {
      "text/plain": [
       "[('Test',\n",
       "  'user',\n",
       "  datetime.datetime(2024, 5, 23, 13, 31, 52, 434979, tzinfo=datetime.timezone.utc))]"
      ]
     },
     "execution_count": 11,
     "metadata": {},
     "output_type": "execute_result"
    }
   ],
   "source": [
    "sql_statement = \"\"\"\n",
    "SELECT * FROM personen\n",
    "\"\"\"\n",
    "conn = sqlite3.connect(\"geburtstage.db\", detect_types=sqlite3.PARSE_DECLTYPES)\n",
    "cur = conn.cursor()\n",
    "res = cur.execute(sql_statement)\n",
    "res.fetchall()"
   ]
  },
  {
   "cell_type": "code",
   "execution_count": 12,
   "id": "0420457f-45c4-4120-8e8e-1a147e6f94ca",
   "metadata": {},
   "outputs": [],
   "source": [
    "conn.close()"
   ]
  },
  {
   "cell_type": "code",
   "execution_count": 13,
   "id": "7c2f75ea-7510-437b-a887-e8fe837106d8",
   "metadata": {},
   "outputs": [],
   "source": [
    "sql_statement = \"\"\"\n",
    "SELECT geburtstag FROM personen\n",
    "\"\"\"\n",
    "conn = sqlite3.connect(\"geburtstage.db\", detect_types=sqlite3.PARSE_DECLTYPES | sqlite3.PARSE_COLNAMES)\n",
    "cur = conn.cursor()\n",
    "res = cur.execute(sql_statement)\n",
    "ret = res.fetchall()"
   ]
  },
  {
   "cell_type": "code",
   "execution_count": 14,
   "id": "dac3c53a-6925-41b3-8514-1b0c1b031274",
   "metadata": {},
   "outputs": [],
   "source": [
    "conn.close()"
   ]
  },
  {
   "cell_type": "code",
   "execution_count": 15,
   "id": "697d2d26-07cb-40b8-900a-47183eb7f90f",
   "metadata": {},
   "outputs": [
    {
     "data": {
      "text/plain": [
       "datetime.datetime(2024, 5, 23, 13, 31, 52, 434979, tzinfo=datetime.timezone.utc)"
      ]
     },
     "execution_count": 15,
     "metadata": {},
     "output_type": "execute_result"
    }
   ],
   "source": [
    "ret[0][0]"
   ]
  },
  {
   "cell_type": "code",
   "execution_count": null,
   "id": "88486beb-f54f-4b4d-abfc-8a99bbd69850",
   "metadata": {},
   "outputs": [],
   "source": []
  }
 ],
 "metadata": {
  "kernelspec": {
   "display_name": "Python 3 (ipykernel)",
   "language": "python",
   "name": "python3"
  },
  "language_info": {
   "codemirror_mode": {
    "name": "ipython",
    "version": 3
   },
   "file_extension": ".py",
   "mimetype": "text/x-python",
   "name": "python",
   "nbconvert_exporter": "python",
   "pygments_lexer": "ipython3",
   "version": "3.11.8"
  }
 },
 "nbformat": 4,
 "nbformat_minor": 5
}
