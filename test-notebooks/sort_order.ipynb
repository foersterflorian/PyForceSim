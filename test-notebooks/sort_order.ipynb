{
 "cells": [
  {
   "cell_type": "code",
   "execution_count": 2,
   "id": "0736df1e-be41-4b4c-b534-0c85a1a504cb",
   "metadata": {},
   "outputs": [],
   "source": [
    "from operator import attrgetter\n",
    "from datetime import timedelta"
   ]
  },
  {
   "cell_type": "code",
   "execution_count": 14,
   "id": "a4715b90-39f9-4dbb-8d85-d73a4cffba6c",
   "metadata": {},
   "outputs": [],
   "source": [
    "class TestProc:\n",
    "    def __init__(self, idx, load_time):\n",
    "        self.ident = idx\n",
    "        self.WIP = timedelta(hours=load_time)\n",
    "\n",
    "    def __repr__(self) -> str:\n",
    "        return f'TestProc(ID: {self.ident}, Time={self.WIP})'"
   ]
  },
  {
   "cell_type": "code",
   "execution_count": 29,
   "id": "f54fa662-340b-47ab-becc-84a95b8892f8",
   "metadata": {},
   "outputs": [],
   "source": [
    "p1 = TestProc(0, 3)\n",
    "p2 = TestProc(1, 2)\n",
    "p3 = TestProc(2, 2)\n",
    "p4 = TestProc(3, 5)"
   ]
  },
  {
   "cell_type": "code",
   "execution_count": 30,
   "id": "cbaffd73-606c-44a4-b445-0d092e62f016",
   "metadata": {},
   "outputs": [],
   "source": [
    "choice = [p1, p2, p3, p4]"
   ]
  },
  {
   "cell_type": "code",
   "execution_count": 31,
   "id": "aec797c1-8795-43cb-ab7e-4479b2c0ceee",
   "metadata": {},
   "outputs": [
    {
     "data": {
      "text/plain": [
       "[TestProc(ID: 0, Time=3:00:00),\n",
       " TestProc(ID: 1, Time=2:00:00),\n",
       " TestProc(ID: 2, Time=2:00:00),\n",
       " TestProc(ID: 3, Time=5:00:00)]"
      ]
     },
     "execution_count": 31,
     "metadata": {},
     "output_type": "execute_result"
    }
   ],
   "source": [
    "choice"
   ]
  },
  {
   "cell_type": "code",
   "execution_count": 37,
   "id": "7bd82ec0-e24e-4d32-b219-d587fcb923b1",
   "metadata": {},
   "outputs": [
    {
     "data": {
      "text/plain": [
       "TestProc(ID: 1, Time=2:00:00)"
      ]
     },
     "execution_count": 37,
     "metadata": {},
     "output_type": "execute_result"
    }
   ],
   "source": [
    "min(choice, key=attrgetter('WIP'))"
   ]
  },
  {
   "cell_type": "code",
   "execution_count": 39,
   "id": "83ed7027-e2d1-44ef-9eb6-5f3c3783e405",
   "metadata": {},
   "outputs": [],
   "source": [
    "import pyforcesim.simulation.environment"
   ]
  },
  {
   "cell_type": "code",
   "execution_count": null,
   "id": "4053cc36-220f-4602-acfd-d2f7be89f303",
   "metadata": {},
   "outputs": [],
   "source": []
  }
 ],
 "metadata": {
  "kernelspec": {
   "display_name": "Python 3 (ipykernel)",
   "language": "python",
   "name": "python3"
  },
  "language_info": {
   "codemirror_mode": {
    "name": "ipython",
    "version": 3
   },
   "file_extension": ".py",
   "mimetype": "text/x-python",
   "name": "python",
   "nbconvert_exporter": "python",
   "pygments_lexer": "ipython3",
   "version": "3.11.9"
  }
 },
 "nbformat": 4,
 "nbformat_minor": 5
}
